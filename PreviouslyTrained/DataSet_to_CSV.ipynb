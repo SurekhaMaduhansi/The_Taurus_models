{
 "cells": [
  {
   "cell_type": "code",
   "execution_count": 1,
   "id": "5f31731e",
   "metadata": {},
   "outputs": [],
   "source": [
    "import pandas as pd"
   ]
  },
  {
   "cell_type": "code",
   "execution_count": 2,
   "id": "c9977fa4",
   "metadata": {},
   "outputs": [],
   "source": [
    "read_file = pd.read_csv (r'D:/SLIIT_Y4S1/IT19132938_RP/BEHAVIORAL_PATTERNS/DataSet_BC.txt')\n",
    "read_file.to_csv (r'D:/SLIIT_Y4S1/IT19132938_RP/BEHAVIORAL_PATTERNS/DataSet_BC.csv', index=None)"
   ]
  },
  {
   "cell_type": "code",
   "execution_count": 4,
   "id": "a49cf325",
   "metadata": {},
   "outputs": [],
   "source": [
    "spreadsheet = pd.read_csv('D:/SLIIT/SLIIT_Y4S1/IT19132938_RP/BEHAVIORAL_PATTERNS/spread.csv')"
   ]
  },
  {
   "cell_type": "code",
   "execution_count": 5,
   "id": "40d1581f",
   "metadata": {},
   "outputs": [
    {
     "data": {
      "text/html": [
       "<div>\n",
       "<style scoped>\n",
       "    .dataframe tbody tr th:only-of-type {\n",
       "        vertical-align: middle;\n",
       "    }\n",
       "\n",
       "    .dataframe tbody tr th {\n",
       "        vertical-align: top;\n",
       "    }\n",
       "\n",
       "    .dataframe thead th {\n",
       "        text-align: right;\n",
       "    }\n",
       "</style>\n",
       "<table border=\"1\" class=\"dataframe\">\n",
       "  <thead>\n",
       "    <tr style=\"text-align: right;\">\n",
       "      <th></th>\n",
       "      <th>Bovine Spongiform Encephalopathy/aggressive1.mp4</th>\n",
       "    </tr>\n",
       "  </thead>\n",
       "  <tbody>\n",
       "    <tr>\n",
       "      <th>0</th>\n",
       "      <td>Bovine Spongiform Encephalopathy/aggressive2.mp4</td>\n",
       "    </tr>\n",
       "    <tr>\n",
       "      <th>1</th>\n",
       "      <td>Bovine Spongiform Encephalopathy/aggressive3.mp4</td>\n",
       "    </tr>\n",
       "    <tr>\n",
       "      <th>2</th>\n",
       "      <td>Bovine Spongiform Encephalopathy/head_tossing1...</td>\n",
       "    </tr>\n",
       "    <tr>\n",
       "      <th>3</th>\n",
       "      <td>Bovine Spongiform Encephalopathy/head_tossing2...</td>\n",
       "    </tr>\n",
       "    <tr>\n",
       "      <th>4</th>\n",
       "      <td>Bovine Spongiform Encephalopathy/headshy1.mp4</td>\n",
       "    </tr>\n",
       "  </tbody>\n",
       "</table>\n",
       "</div>"
      ],
      "text/plain": [
       "    Bovine Spongiform Encephalopathy/aggressive1.mp4\n",
       "0   Bovine Spongiform Encephalopathy/aggressive2.mp4\n",
       "1   Bovine Spongiform Encephalopathy/aggressive3.mp4\n",
       "2  Bovine Spongiform Encephalopathy/head_tossing1...\n",
       "3  Bovine Spongiform Encephalopathy/head_tossing2...\n",
       "4      Bovine Spongiform Encephalopathy/headshy1.mp4"
      ]
     },
     "execution_count": 5,
     "metadata": {},
     "output_type": "execute_result"
    }
   ],
   "source": [
    "spreadsheet.head()"
   ]
  },
  {
   "cell_type": "code",
   "execution_count": 6,
   "id": "2528a36e",
   "metadata": {},
   "outputs": [
    {
     "data": {
      "text/html": [
       "<div>\n",
       "<style scoped>\n",
       "    .dataframe tbody tr th:only-of-type {\n",
       "        vertical-align: middle;\n",
       "    }\n",
       "\n",
       "    .dataframe tbody tr th {\n",
       "        vertical-align: top;\n",
       "    }\n",
       "\n",
       "    .dataframe thead th {\n",
       "        text-align: right;\n",
       "    }\n",
       "</style>\n",
       "<table border=\"1\" class=\"dataframe\">\n",
       "  <thead>\n",
       "    <tr style=\"text-align: right;\">\n",
       "      <th></th>\n",
       "      <th>Bovine Spongiform Encephalopathy/aggressive1.mp4</th>\n",
       "    </tr>\n",
       "  </thead>\n",
       "  <tbody>\n",
       "    <tr>\n",
       "      <th>0</th>\n",
       "      <td>Bovine Spongiform Encephalopathy/aggressive2.mp4</td>\n",
       "    </tr>\n",
       "    <tr>\n",
       "      <th>1</th>\n",
       "      <td>Bovine Spongiform Encephalopathy/aggressive3.mp4</td>\n",
       "    </tr>\n",
       "    <tr>\n",
       "      <th>2</th>\n",
       "      <td>Bovine Spongiform Encephalopathy/head_tossing1...</td>\n",
       "    </tr>\n",
       "    <tr>\n",
       "      <th>3</th>\n",
       "      <td>Bovine Spongiform Encephalopathy/head_tossing2...</td>\n",
       "    </tr>\n",
       "    <tr>\n",
       "      <th>4</th>\n",
       "      <td>Bovine Spongiform Encephalopathy/headshy1.mp4</td>\n",
       "    </tr>\n",
       "    <tr>\n",
       "      <th>...</th>\n",
       "      <td>...</td>\n",
       "    </tr>\n",
       "    <tr>\n",
       "      <th>159</th>\n",
       "      <td>Lameness/lameness_score3_9.mp4</td>\n",
       "    </tr>\n",
       "    <tr>\n",
       "      <th>160</th>\n",
       "      <td>Lameness/lameness_score3_10.mp4</td>\n",
       "    </tr>\n",
       "    <tr>\n",
       "      <th>161</th>\n",
       "      <td>Lameness/lameness_score3_11.mp4</td>\n",
       "    </tr>\n",
       "    <tr>\n",
       "      <th>162</th>\n",
       "      <td>Lameness/lameness_score3_12.mp4</td>\n",
       "    </tr>\n",
       "    <tr>\n",
       "      <th>163</th>\n",
       "      <td>Lameness/lameness_score3_13.mp4</td>\n",
       "    </tr>\n",
       "  </tbody>\n",
       "</table>\n",
       "<p>164 rows × 1 columns</p>\n",
       "</div>"
      ],
      "text/plain": [
       "      Bovine Spongiform Encephalopathy/aggressive1.mp4\n",
       "0     Bovine Spongiform Encephalopathy/aggressive2.mp4\n",
       "1     Bovine Spongiform Encephalopathy/aggressive3.mp4\n",
       "2    Bovine Spongiform Encephalopathy/head_tossing1...\n",
       "3    Bovine Spongiform Encephalopathy/head_tossing2...\n",
       "4        Bovine Spongiform Encephalopathy/headshy1.mp4\n",
       "..                                                 ...\n",
       "159                     Lameness/lameness_score3_9.mp4\n",
       "160                    Lameness/lameness_score3_10.mp4\n",
       "161                    Lameness/lameness_score3_11.mp4\n",
       "162                    Lameness/lameness_score3_12.mp4\n",
       "163                    Lameness/lameness_score3_13.mp4\n",
       "\n",
       "[164 rows x 1 columns]"
      ]
     },
     "execution_count": 6,
     "metadata": {},
     "output_type": "execute_result"
    }
   ],
   "source": [
    "spreadsheet"
   ]
  },
  {
   "cell_type": "code",
   "execution_count": null,
   "id": "ad18342b",
   "metadata": {},
   "outputs": [],
   "source": []
  }
 ],
 "metadata": {
  "kernelspec": {
   "display_name": "Python 3 (ipykernel)",
   "language": "python",
   "name": "python3"
  },
  "language_info": {
   "codemirror_mode": {
    "name": "ipython",
    "version": 3
   },
   "file_extension": ".py",
   "mimetype": "text/x-python",
   "name": "python",
   "nbconvert_exporter": "python",
   "pygments_lexer": "ipython3",
   "version": "3.8.5"
  }
 },
 "nbformat": 4,
 "nbformat_minor": 5
}
